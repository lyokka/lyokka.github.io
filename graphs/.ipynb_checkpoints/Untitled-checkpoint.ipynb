{
 "cells": [
  {
   "cell_type": "markdown",
   "metadata": {},
   "source": [
    "Draw Two Function in Same Plot"
   ]
  },
  {
   "cell_type": "code",
   "execution_count": 1,
   "metadata": {
    "collapsed": false
   },
   "outputs": [],
   "source": [
    "import numpy as np\n",
    "import matplotlib.pyplot as plt"
   ]
  },
  {
   "cell_type": "code",
   "execution_count": 2,
   "metadata": {
    "collapsed": false
   },
   "outputs": [],
   "source": [
    "n_a = 0\n",
    "p = []\n",
    "for i in range(1,10000):\n",
    "    r = np.random.randint(2, size=1)[0]\n",
    "    if r == 1:\n",
    "        n_a += 1\n",
    "    p.append(n_a/i)"
   ]
  },
  {
   "cell_type": "code",
   "execution_count": 57,
   "metadata": {
    "collapsed": false,
    "scrolled": true
   },
   "outputs": [],
   "source": [
    "from matplotlib.backends.backend_pdf import PdfPages\n",
    "\n",
    "def tossing_experiment(pp):\n",
    "    plt.figure(figsize = (12,6))\n",
    "    plt.plot(p)\n",
    "    plt.axhline(y=.5, xmin=0, xmax=4, linewidth=1, color = 'r', ls='dashed')\n",
    "    plt.ylim([0, 1])\n",
    "    plt.ylabel(r'$\\frac{n_A}{n}$', size = 20)\n",
    "    plt.xlabel('number of experiments', size = 15)\n",
    "    plt.annotate('0.5',\n",
    "                 xy=(1000, 0.5),\n",
    "                 xytext=(1000, 0.2),\n",
    "                 color='red',\n",
    "                 size=20,\n",
    "                 arrowprops=dict(facecolor='red',\n",
    "                                 shrink=0.05),\n",
    "                 horizontalalignment='center'\n",
    "                )\n",
    "    plt.annotate(r'$\\frac{n_A}{n}$',\n",
    "                 xy=(500, 0.55),\n",
    "                 xytext=(500, 0.7),\n",
    "                 color='blue',\n",
    "                 size=20,\n",
    "                 arrowprops=dict(facecolor='blue',\n",
    "                                 shrink=0.05),\n",
    "                 horizontalalignment='center'\n",
    "                )\n",
    "    plt.annotate(r'$\\lim_{n\\to\\infty}\\frac{n_A}{n}\\approx0.5$',\n",
    "                 xy=(9000, 0.5),\n",
    "                 xytext=(9000, 0.65),\n",
    "                 color='blue',\n",
    "                 size=20,\n",
    "                 arrowprops=dict(facecolor='blue',\n",
    "                                 shrink=0.05),\n",
    "                 horizontalalignment='center'\n",
    "                )\n",
    "    plt.title('flipping coin experiment')\n",
    "    pp.savefig(plt.gcf())\n",
    "\n",
    "with PdfPages('relative_frequency_interp.pdf') as pp:\n",
    "    tossing_experiment(pp)"
   ]
  },
  {
   "cell_type": "code",
   "execution_count": null,
   "metadata": {
    "collapsed": true
   },
   "outputs": [],
   "source": []
  }
 ],
 "metadata": {
  "kernelspec": {
   "display_name": "Python 3",
   "language": "python",
   "name": "python3"
  },
  "language_info": {
   "codemirror_mode": {
    "name": "ipython",
    "version": 3
   },
   "file_extension": ".py",
   "mimetype": "text/x-python",
   "name": "python",
   "nbconvert_exporter": "python",
   "pygments_lexer": "ipython3",
   "version": "3.6.0"
  }
 },
 "nbformat": 4,
 "nbformat_minor": 2
}
